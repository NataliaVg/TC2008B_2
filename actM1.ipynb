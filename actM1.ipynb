{
 "cells": [
  {
   "cell_type": "markdown",
   "metadata": {},
   "source": [
    "Equipo:\n",
    "Abigail Velasco García A01638095\n",
    "Natalia Velasco García A01638095"
   ]
  },
  {
   "cell_type": "code",
   "execution_count": 1,
   "metadata": {},
   "outputs": [],
   "source": [
    "# Model design\n",
    "import agentpy as ap\n",
    "import time\n",
    "\n",
    "# Visualization\n",
    "import matplotlib.pyplot as plt\n",
    "import seaborn as sns\n",
    "import IPython"
   ]
  },
  {
   "cell_type": "markdown",
   "metadata": {},
   "source": []
  },
  {
   "cell_type": "code",
   "execution_count": 2,
   "metadata": {},
   "outputs": [],
   "source": [
    "moveC = 0\n",
    "start_time = 0\n",
    "end_time = 0\n",
    "\n",
    "class TileModel(ap.Model):\n",
    "\n",
    "    def setup(self):\n",
    "        # Create agents (dTiles)\n",
    "        n_dTiles = int(self.p['dTiles density'] * (self.p.size['X']) * (self.p.size['Y']))\n",
    "        dTiles = self.dTiles_agents = ap.AgentList(self, n_dTiles)\n",
    "\n",
    "        # Create grid (room)\n",
    "        self.room = ap.Grid(self, (self.p['size']['X'], self.p['size']['Y']), track_empty=True)\n",
    "        self.room.add_agents(dTiles, random=True, empty=True)\n",
    "\n",
    "        # Initiate a dynamic variable for tiles \n",
    "        # Condition 0: dirty, 1: Cleaned\n",
    "\n",
    "        self.dTiles_agents.condition = 0\n",
    "        \n",
    "\n",
    "        # Start cleaning from [1, 1]\n",
    "        # Create agents (robots)\n",
    "\n",
    "        robots = self.robot_agents = ap.AgentList(self, self.p['nRobots'])\n",
    "        robotsPosition = [(1,1)] * self.p['nRobots']\n",
    "        \n",
    "        self.robot_agents.condition = 2\n",
    "\n",
    "        self.room.add_agents(robots, robotsPosition, empty=True)\n",
    "    \n",
    "    global start_time\n",
    "    start_time = time.time()\n",
    "    def step(self):\n",
    "        \n",
    "        global moveC\n",
    "\n",
    "        # Select dirty tiles\n",
    "        dTiles = self.dTiles_agents.select(self.dTiles_agents.condition == 0)\n",
    "\n",
    "        # Clean floor\n",
    "\n",
    "        for robot in self.robot_agents:\n",
    "            neighborList = self.room.neighbors(robot).to_list()\n",
    "            neighbor = self.random.choice(neighborList)\n",
    "            if((time.time() - start_time >=  self.p['time'])):\n",
    "                self.stop()\n",
    "            if neighbor.condition == 0:\n",
    "                neighbor.condition = 1\n",
    "            elif neighbor.condition != 2:\n",
    "                newPosRobot = self.room.positions[neighbor]\n",
    "                self.room.move_to(robot, newPosRobot)\n",
    "                moveC += 1\n",
    "  \n",
    "        if len(dTiles) == 0:\n",
    "            self.stop()\n",
    "    \n",
    "def end(self):\n",
    "        \n",
    "\n",
    "        global moveC\n",
    "        global end_time\n",
    "\n",
    "        # Document a measure at the end of the simulation\n",
    "        \n",
    "        end_time = time.time()\n",
    "        self.report('Simulation running time',\n",
    "                     end_time - start_time )\n",
    "        \n",
    "        dirty_tiles = len(self.dTiles_agents.select(self.dTiles_agents.condition == 0))\n",
    "        total_tiles = self.p.size['X'] * self.p.size['Y']\n",
    "        clean_tiles = total_tiles - dirty_tiles\n",
    "        self.report('Clean tiles %',\n",
    "            clean_tiles * 100 / total_tiles)\n",
    "        \n",
    "        self.report('Robot steps #', moveC)"
   ]
  },
  {
   "cell_type": "code",
   "execution_count": 3,
   "metadata": {},
   "outputs": [],
   "source": [
    "# Define parameters\n",
    "parameters = {\n",
    "    'dTiles density': 0.5, \n",
    "    'size': { 'X': 10 , 'Y': 10},\n",
    "    'nRobots': 30,\n",
    "    'time': 1\n",
    "}"
   ]
  },
  {
   "cell_type": "code",
   "execution_count": 4,
   "metadata": {},
   "outputs": [
    {
     "name": "stdout",
     "output_type": "stream",
     "text": [
      "Completed: 1412 steps\n",
      "Run time: 0:00:00.948311\n",
      "Simulation finished\n"
     ]
    },
    {
     "data": {
      "text/html": [
       "<div>\n",
       "<style scoped>\n",
       "    .dataframe tbody tr th:only-of-type {\n",
       "        vertical-align: middle;\n",
       "    }\n",
       "\n",
       "    .dataframe tbody tr th {\n",
       "        vertical-align: top;\n",
       "    }\n",
       "\n",
       "    .dataframe thead th {\n",
       "        text-align: right;\n",
       "    }\n",
       "</style>\n",
       "<table border=\"1\" class=\"dataframe\">\n",
       "  <thead>\n",
       "    <tr style=\"text-align: right;\">\n",
       "      <th></th>\n",
       "      <th>seed</th>\n",
       "    </tr>\n",
       "  </thead>\n",
       "  <tbody>\n",
       "    <tr>\n",
       "      <th>0</th>\n",
       "      <td>94075621822730661590821014044621196691</td>\n",
       "    </tr>\n",
       "  </tbody>\n",
       "</table>\n",
       "</div>"
      ],
      "text/plain": [
       "                                     seed\n",
       "0  94075621822730661590821014044621196691"
      ]
     },
     "execution_count": 4,
     "metadata": {},
     "output_type": "execute_result"
    }
   ],
   "source": [
    "model = TileModel(parameters)\n",
    "results = model.run()\n",
    "results.reporters"
   ]
  }
 ],
 "metadata": {
  "interpreter": {
   "hash": "b8d3af13b7aeb0ef7d3795245df831e6dbeca592d47fb6d43c3763f8b91943ee"
  },
  "kernelspec": {
   "display_name": "Python 3.10.0 64-bit",
   "language": "python",
   "name": "python3"
  },
  "language_info": {
   "codemirror_mode": {
    "name": "ipython",
    "version": 3
   },
   "file_extension": ".py",
   "mimetype": "text/x-python",
   "name": "python",
   "nbconvert_exporter": "python",
   "pygments_lexer": "ipython3",
   "version": "3.10.0"
  },
  "orig_nbformat": 4
 },
 "nbformat": 4,
 "nbformat_minor": 2
}
